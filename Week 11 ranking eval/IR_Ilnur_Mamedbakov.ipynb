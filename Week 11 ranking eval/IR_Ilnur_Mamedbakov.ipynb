{
 "cells": [
  {
   "cell_type": "markdown",
   "metadata": {},
   "source": [
    "# Ranking evaluation metrics\n",
    "\n",
    "In this lab you will implement ranking evaluation metrics.\n",
    "\n",
    "For each query the search engine returns the sorted list of documents. We expect to have relevant documents at the top. \n",
    "In supervision learning to evaluate the quality we need labeled data.\n",
    "\n",
    "Read this article first:\n",
    "http://queirozf.com/entries/evaluation-metrics-for-ranking-problems-introduction-and-examples\n",
    "https://medium.com/swlh/rank-aware-recsys-evaluation-metrics-5191bba16832"
   ]
  },
  {
   "cell_type": "markdown",
   "metadata": {},
   "source": [
    "## Binary relevance metrics\n",
    "\n",
    "We will start from the assumption, that each document is either relevant or not.\n",
    "\n",
    "#### recall, precision, f1\n",
    "\n",
    "First metrics are already faminiar for you from Introduction to Machine Learning course.\n",
    "Implement relall, precision, and relevance for top $k$ documents.\n",
    "\n",
    "relevance is a list which represents that document with this index in ranking is relevant or not."
   ]
  },
  {
   "cell_type": "code",
   "execution_count": 15,
   "metadata": {},
   "outputs": [],
   "source": [
    "import numpy as np\n",
    "import math\n",
    "\n",
    "def recall_at_k(relevance, k):\n",
    "    tp_k = 0\n",
    "    tp = 0\n",
    "    for i in range(len(relevance)):\n",
    "        if (i <= k):\n",
    "            tp_k += 1\n",
    "            tp += 1\n",
    "        else:\n",
    "           tp += 1\n",
    "    \n",
    "    recall = tp_k / tp\n",
    "    return recall\n",
    "\n",
    "def precision_at_k(relevance, k):\n",
    "    relevance_k = relevance[:k]\n",
    "    tp = 0\n",
    "    for i in relevance_k:\n",
    "        if i == 1:\n",
    "            tp+=1\n",
    "    precision = tp/k \n",
    "    return precision\n",
    "\n",
    "def f1_at_k(relevance, k):\n",
    "    recall = recall_at_k(relevance, k)\n",
    "    precision = precision_at_k(relevance, k)\n",
    "    f1 = 2 * ((precision * recall)/(precision + recall))\n",
    "    return f1\n"
   ]
  },
  {
   "cell_type": "code",
   "execution_count": 16,
   "metadata": {},
   "outputs": [
    {
     "name": "stdout",
     "output_type": "stream",
     "text": [
      "0.25\n",
      "1.0\n",
      "1.0\n",
      "0.5\n",
      "0.4\n",
      "0.6666666666666666\n"
     ]
    }
   ],
   "source": [
    "r = [1, 0, 1, 1, 0, 1, 0, 0]\n",
    "\n",
    "print(recall_at_k(r, 1))\n",
    "print(recall_at_k(r, 8))\n",
    "\n",
    "print(precision_at_k(r, 1))\n",
    "print(precision_at_k(r, 8))\n",
    "\n",
    "print(f1_at_k(r, 1))\n",
    "print(f1_at_k(r, 8))"
   ]
  },
  {
   "cell_type": "markdown",
   "metadata": {},
   "source": [
    "#### Average Precision\n",
    "You can calculate the AP using the following algorithm:\n",
    "\n",
    "<img src=\"http://queirozf.com/images/contents/mnc7sx1.png\">"
   ]
  },
  {
   "cell_type": "code",
   "execution_count": 17,
   "metadata": {},
   "outputs": [],
   "source": [
    "def average_precision(relevance, K):\n",
    "    cor_pred = 0\n",
    "    run_sum = 0\n",
    "    for k in range(K):\n",
    "        if relevance[k] == 1:\n",
    "            cor_pred += 1\n",
    "            run_sum += cor_pred / (k+1)\n",
    "    tp = 0\n",
    "    for i in relevance:\n",
    "        if i == 1:\n",
    "            tp+=1\n",
    "    return run_sum / tp"
   ]
  },
  {
   "cell_type": "code",
   "execution_count": 12,
   "metadata": {},
   "outputs": [
    {
     "name": "stdout",
     "output_type": "stream",
     "text": [
      "0.25\n",
      "0.7708333333333333\n"
     ]
    }
   ],
   "source": [
    "print(average_precision(r, 1))\n",
    "print(average_precision(r, 8))"
   ]
  },
  {
   "cell_type": "markdown",
   "metadata": {},
   "source": [
    "## Relevance as a real number\n",
    "\n",
    "#### DCG\n",
    "\n",
    "DCG - discounted cumulative gain, does't require the relevance to be a binary feature. In many situations one document is more relevant than another and we want to represent it in supervised evaluation. Often the relevance is a number form ${0,1,2,3}$, but ${0,1}$ is also appropriate for usage.\n",
    "\n",
    "The idea is that each rerelvant document brings a \"gain\" for a user. He or she looks through the documents from the first. So the gain sums cumulatively. But it is better to have a relevant document at the top of the ranking, so the weight of that gain decreases, or we have a discounded weight with increasing of the document position. And since the weight is decreasing, we can calculate this value for the top $k$ documents in ranking.\n",
    "\n",
    "$$DCG@k = \\sum_{1}^{k}\\frac{2^{rel_i}-1}{log_2(i+1)}$$"
   ]
  },
  {
   "cell_type": "code",
   "execution_count": 18,
   "metadata": {},
   "outputs": [],
   "source": [
    "def dcg_at_k(relevance, k=10):\n",
    "    DCG = 0\n",
    "    for i in range(k):\n",
    "        DCG += (2**relevance[i] - 1) / (math.log(i+2,2))\n",
    "    return DCG"
   ]
  },
  {
   "cell_type": "code",
   "execution_count": 14,
   "metadata": {},
   "outputs": [
    {
     "name": "stdout",
     "output_type": "stream",
     "text": [
      "1.0\n",
      "2.2868837451814152\n",
      "7.0\n",
      "16.802601047827448\n"
     ]
    }
   ],
   "source": [
    "r2 = [3, 2, 3, 0, 0, 1, 2, 2, 3, 0]\n",
    "\n",
    "print(dcg_at_k(r, 1))\n",
    "print(dcg_at_k(r, 8))\n",
    "\n",
    "print(dcg_at_k(r2, 1))\n",
    "print(dcg_at_k(r2, 10))"
   ]
  },
  {
   "cell_type": "markdown",
   "metadata": {},
   "source": [
    "#### nDCG\n",
    "Now the idea is to normalize it to the maximum value."
   ]
  },
  {
   "cell_type": "code",
   "execution_count": 19,
   "metadata": {},
   "outputs": [],
   "source": [
    "def ndcg_at_k(relevance, k=10):\n",
    "    DCGs = dcg_at_k(sorted(relevance, reverse=True), k)\n",
    "    DCG = dcg_at_k(relevance, k)\n",
    "    return DCG / DCGs"
   ]
  },
  {
   "cell_type": "code",
   "execution_count": 16,
   "metadata": {},
   "outputs": [
    {
     "name": "stdout",
     "output_type": "stream",
     "text": [
      "1.0\n",
      "0.8927537907700458\n",
      "1.0\n",
      "0.8951337253357086\n"
     ]
    }
   ],
   "source": [
    "print(ndcg_at_k(r, 1))\n",
    "print(ndcg_at_k(r, 8))\n",
    "\n",
    "print(ndcg_at_k(r2, 1))\n",
    "print(ndcg_at_k(r2, 10))"
   ]
  },
  {
   "cell_type": "markdown",
   "metadata": {},
   "source": [
    "## Test in real data\n",
    "\n",
    "You already have search engines on songs or news. Test the evaluation on real data.\n",
    "\n",
    "1. Choose the search query query\n",
    "2. Run the search\n",
    "3. Manually look top 10 results and evaluate each of them if it relevant or not\n",
    "4. Calculate AP and DCG (relevance is either 0 or 1)"
   ]
  },
  {
   "cell_type": "code",
   "execution_count": 1,
   "metadata": {},
   "outputs": [
    {
     "name": "stdout",
     "output_type": "stream",
     "text": [
      "Requirement already satisfied: nltk in c:\\users\\kor19\\appdata\\local\\programs\\python\\python37\\lib\\site-packages (3.4.5)\n",
      "Requirement already satisfied: six in c:\\users\\kor19\\appdata\\local\\programs\\python\\python37\\lib\\site-packages (from nltk) (1.12.0)\n"
     ]
    },
    {
     "name": "stderr",
     "output_type": "stream",
     "text": [
      "WARNING: You are using pip version 19.2.3, however version 20.0.2 is available.\n",
      "You should consider upgrading via the 'python -m pip install --upgrade pip' command.\n"
     ]
    },
    {
     "name": "stdout",
     "output_type": "stream",
     "text": [
      "Requirement already satisfied: gensim in c:\\users\\kor19\\appdata\\local\\programs\\python\\python37\\lib\\site-packages (3.8.1)\n",
      "Requirement already satisfied: six>=1.5.0 in c:\\users\\kor19\\appdata\\local\\programs\\python\\python37\\lib\\site-packages (from gensim) (1.12.0)\n",
      "Requirement already satisfied: numpy>=1.11.3 in c:\\users\\kor19\\appdata\\local\\programs\\python\\python37\\lib\\site-packages (from gensim) (1.17.3)\n",
      "Requirement already satisfied: scipy>=0.18.1 in c:\\users\\kor19\\appdata\\local\\programs\\python\\python37\\lib\\site-packages (from gensim) (1.4.1)\n",
      "Requirement already satisfied: smart-open>=1.8.1 in c:\\users\\kor19\\appdata\\local\\programs\\python\\python37\\lib\\site-packages (from gensim) (1.10.0)\n",
      "Requirement already satisfied: requests in c:\\users\\kor19\\appdata\\local\\programs\\python\\python37\\lib\\site-packages (from smart-open>=1.8.1->gensim) (2.23.0)\n",
      "Requirement already satisfied: boto3 in c:\\users\\kor19\\appdata\\local\\programs\\python\\python37\\lib\\site-packages (from smart-open>=1.8.1->gensim) (1.12.27)\n",
      "Requirement already satisfied: google-cloud-storage in c:\\users\\kor19\\appdata\\local\\programs\\python\\python37\\lib\\site-packages (from smart-open>=1.8.1->gensim) (1.26.0)\n",
      "Requirement already satisfied: certifi>=2017.4.17 in c:\\users\\kor19\\appdata\\local\\programs\\python\\python37\\lib\\site-packages (from requests->smart-open>=1.8.1->gensim) (2019.11.28)\n",
      "Requirement already satisfied: urllib3!=1.25.0,!=1.25.1,<1.26,>=1.21.1 in c:\\users\\kor19\\appdata\\local\\programs\\python\\python37\\lib\\site-packages (from requests->smart-open>=1.8.1->gensim) (1.25.8)\n",
      "Requirement already satisfied: chardet<4,>=3.0.2 in c:\\users\\kor19\\appdata\\local\\programs\\python\\python37\\lib\\site-packages (from requests->smart-open>=1.8.1->gensim) (3.0.4)\n",
      "Requirement already satisfied: idna<3,>=2.5 in c:\\users\\kor19\\appdata\\local\\programs\\python\\python37\\lib\\site-packages (from requests->smart-open>=1.8.1->gensim) (2.9)\n",
      "Requirement already satisfied: botocore<1.16.0,>=1.15.27 in c:\\users\\kor19\\appdata\\local\\programs\\python\\python37\\lib\\site-packages (from boto3->smart-open>=1.8.1->gensim) (1.15.27)\n",
      "Requirement already satisfied: jmespath<1.0.0,>=0.7.1 in c:\\users\\kor19\\appdata\\local\\programs\\python\\python37\\lib\\site-packages (from boto3->smart-open>=1.8.1->gensim) (0.9.5)\n",
      "Requirement already satisfied: s3transfer<0.4.0,>=0.3.0 in c:\\users\\kor19\\appdata\\local\\programs\\python\\python37\\lib\\site-packages (from boto3->smart-open>=1.8.1->gensim) (0.3.3)\n",
      "Requirement already satisfied: google-cloud-core<2.0dev,>=1.2.0 in c:\\users\\kor19\\appdata\\local\\programs\\python\\python37\\lib\\site-packages (from google-cloud-storage->smart-open>=1.8.1->gensim) (1.3.0)\n",
      "Requirement already satisfied: google-resumable-media<0.6dev,>=0.5.0 in c:\\users\\kor19\\appdata\\local\\programs\\python\\python37\\lib\\site-packages (from google-cloud-storage->smart-open>=1.8.1->gensim) (0.5.0)\n",
      "Requirement already satisfied: google-auth<2.0dev,>=1.11.0 in c:\\users\\kor19\\appdata\\local\\programs\\python\\python37\\lib\\site-packages (from google-cloud-storage->smart-open>=1.8.1->gensim) (1.11.3)\n",
      "Requirement already satisfied: docutils<0.16,>=0.10 in c:\\users\\kor19\\appdata\\local\\programs\\python\\python37\\lib\\site-packages (from botocore<1.16.0,>=1.15.27->boto3->smart-open>=1.8.1->gensim) (0.15.2)\n",
      "Requirement already satisfied: python-dateutil<3.0.0,>=2.1 in c:\\users\\kor19\\appdata\\local\\programs\\python\\python37\\lib\\site-packages (from botocore<1.16.0,>=1.15.27->boto3->smart-open>=1.8.1->gensim) (2.8.0)\n",
      "Requirement already satisfied: google-api-core<2.0.0dev,>=1.16.0 in c:\\users\\kor19\\appdata\\local\\programs\\python\\python37\\lib\\site-packages (from google-cloud-core<2.0dev,>=1.2.0->google-cloud-storage->smart-open>=1.8.1->gensim) (1.16.0)\n",
      "Requirement already satisfied: cachetools<5.0,>=2.0.0 in c:\\users\\kor19\\appdata\\local\\programs\\python\\python37\\lib\\site-packages (from google-auth<2.0dev,>=1.11.0->google-cloud-storage->smart-open>=1.8.1->gensim) (4.0.0)\n",
      "Requirement already satisfied: pyasn1-modules>=0.2.1 in c:\\users\\kor19\\appdata\\local\\programs\\python\\python37\\lib\\site-packages (from google-auth<2.0dev,>=1.11.0->google-cloud-storage->smart-open>=1.8.1->gensim) (0.2.8)\n",
      "Requirement already satisfied: setuptools>=40.3.0 in c:\\users\\kor19\\appdata\\local\\programs\\python\\python37\\lib\\site-packages (from google-auth<2.0dev,>=1.11.0->google-cloud-storage->smart-open>=1.8.1->gensim) (41.2.0)\n",
      "Requirement already satisfied: rsa<4.1,>=3.1.4 in c:\\users\\kor19\\appdata\\local\\programs\\python\\python37\\lib\\site-packages (from google-auth<2.0dev,>=1.11.0->google-cloud-storage->smart-open>=1.8.1->gensim) (4.0)\n",
      "Requirement already satisfied: protobuf>=3.4.0 in c:\\users\\kor19\\appdata\\local\\programs\\python\\python37\\lib\\site-packages (from google-api-core<2.0.0dev,>=1.16.0->google-cloud-core<2.0dev,>=1.2.0->google-cloud-storage->smart-open>=1.8.1->gensim) (3.11.3)\n",
      "Requirement already satisfied: googleapis-common-protos<2.0dev,>=1.6.0 in c:\\users\\kor19\\appdata\\local\\programs\\python\\python37\\lib\\site-packages (from google-api-core<2.0.0dev,>=1.16.0->google-cloud-core<2.0dev,>=1.2.0->google-cloud-storage->smart-open>=1.8.1->gensim) (1.51.0)\n",
      "Requirement already satisfied: pytz in c:\\users\\kor19\\appdata\\local\\programs\\python\\python37\\lib\\site-packages (from google-api-core<2.0.0dev,>=1.16.0->google-cloud-core<2.0dev,>=1.2.0->google-cloud-storage->smart-open>=1.8.1->gensim) (2019.3)\n",
      "Requirement already satisfied: pyasn1<0.5.0,>=0.4.6 in c:\\users\\kor19\\appdata\\local\\programs\\python\\python37\\lib\\site-packages (from pyasn1-modules>=0.2.1->google-auth<2.0dev,>=1.11.0->google-cloud-storage->smart-open>=1.8.1->gensim) (0.4.8)\n"
     ]
    },
    {
     "name": "stderr",
     "output_type": "stream",
     "text": [
      "WARNING: You are using pip version 19.2.3, however version 20.0.2 is available.\n",
      "You should consider upgrading via the 'python -m pip install --upgrade pip' command.\n"
     ]
    },
    {
     "name": "stdout",
     "output_type": "stream",
     "text": [
      "Requirement already satisfied: sklearn in c:\\users\\kor19\\appdata\\local\\programs\\python\\python37\\lib\\site-packages (0.0)\n",
      "Requirement already satisfied: scikit-learn in c:\\users\\kor19\\appdata\\local\\programs\\python\\python37\\lib\\site-packages (from sklearn) (0.22.2.post1)\n",
      "Requirement already satisfied: numpy>=1.11.0 in c:\\users\\kor19\\appdata\\local\\programs\\python\\python37\\lib\\site-packages (from scikit-learn->sklearn) (1.17.3)\n",
      "Requirement already satisfied: joblib>=0.11 in c:\\users\\kor19\\appdata\\local\\programs\\python\\python37\\lib\\site-packages (from scikit-learn->sklearn) (0.14.1)\n",
      "Requirement already satisfied: scipy>=0.17.0 in c:\\users\\kor19\\appdata\\local\\programs\\python\\python37\\lib\\site-packages (from scikit-learn->sklearn) (1.4.1)\n"
     ]
    },
    {
     "name": "stderr",
     "output_type": "stream",
     "text": [
      "WARNING: You are using pip version 19.2.3, however version 20.0.2 is available.\n",
      "You should consider upgrading via the 'python -m pip install --upgrade pip' command.\n",
      "[nltk_data] Downloading package stopwords to\n",
      "[nltk_data]     C:\\Users\\kor19\\AppData\\Roaming\\nltk_data...\n",
      "[nltk_data]   Package stopwords is already up-to-date!\n",
      "[nltk_data] Downloading package wordnet to\n",
      "[nltk_data]     C:\\Users\\kor19\\AppData\\Roaming\\nltk_data...\n",
      "[nltk_data]   Package wordnet is already up-to-date!\n",
      "[nltk_data] Downloading package punkt to\n",
      "[nltk_data]     C:\\Users\\kor19\\AppData\\Roaming\\nltk_data...\n",
      "[nltk_data]   Package punkt is already up-to-date!\n"
     ]
    }
   ],
   "source": [
    "\n",
    "!pip3 install nltk\n",
    "!pip3 install gensim\n",
    "!pip3 install sklearn\n",
    "\n",
    "from gensim.models.doc2vec import Doc2Vec\n",
    "import numpy as np \n",
    "import re\n",
    "import unicodedata\n",
    "import nltk\n",
    "from nltk.tokenize import sent_tokenize, word_tokenize\n",
    "from nltk.stem import \tWordNetLemmatizer\n",
    "from nltk.corpus import stopwords\n",
    "nltk.download('stopwords')\n",
    "nltk.download('wordnet')\t\n",
    "nltk.download('punkt')\n",
    "from sklearn.metrics import classification_report\n",
    "from sklearn.svm import SVC\n",
    "from sklearn.model_selection import train_test_split"
   ]
  },
  {
   "cell_type": "code",
   "execution_count": 2,
   "metadata": {},
   "outputs": [],
   "source": [
    "# normilize text\n",
    "def normalize(text):\n",
    "    text = unicodedata.normalize('NFD', text).encode('ascii', 'ignore').decode('ascii')\n",
    "    text = re.sub(r\"[”“,.:;()#%!?+-\\/'@*]\", \"\", text)\n",
    "    textList = text.lower().split(\" \")\n",
    "    text = ' '.join(textList)\n",
    "\n",
    "    return text\n",
    "\n",
    "def normalize_query(text):\n",
    "    text = unicodedata.normalize('NFD', text).encode('ascii', 'ignore').decode('ascii')\n",
    "    text = re.sub(r\"[”“,.:;()#%!?+/'@]\", \"\", text) \n",
    "    textList = text.lower().split(\" \")\n",
    "    text = ' '.join(textList)\n",
    "\n",
    "    return text\n",
    "\n",
    "def tokenize(text):    \n",
    "    return(word_tokenize(text))\n",
    "\n",
    "def lemmatization(tokens):\n",
    "  wordnet_lemmatizer = WordNetLemmatizer()\n",
    "  for i in range(len(tokens)):\n",
    "    tokens[i] = wordnet_lemmatizer.lemmatize(tokens[i])\n",
    "  return tokens\n",
    "\n",
    "def remove_stop_word(tokens):\n",
    "  stop_words = stopwords.words('english')\n",
    "\n",
    "  for word in tokens: \n",
    "    if word in stop_words:\n",
    "        tokens.remove(word)\n",
    "  return tokens\n",
    "\n",
    "def preprocess(text):\n",
    "    text = normalize(text)\n",
    "    tokens = tokenize(text)\n",
    "    lemmed = lemmatization(tokens)\n",
    "    clean = remove_stop_word(lemmed)\n",
    "    return clean    \n",
    "\n"
   ]
  },
  {
   "cell_type": "code",
   "execution_count": 9,
   "metadata": {},
   "outputs": [],
   "source": [
    "\n",
    "news = open('testdata_news_music_2084docs.txt', 'r').readlines()\n",
    "\n",
    "model = Doc2Vec.load('doc2vec.bin', mmap=None)\n",
    "news_prep = [preprocess(words) for words in news]\n",
    "sent_vecs = np.array([model.infer_vector(words) for words in news_prep])\n"
   ]
  },
  {
   "cell_type": "code",
   "execution_count": 10,
   "metadata": {},
   "outputs": [],
   "source": [
    "def norm_vectors(A):\n",
    "    An = A.copy()\n",
    "    scaler = preprocessing.Normalizer(norm='l2')\n",
    "    An = scaler.fit_transform(An)\n",
    "    \n",
    "    return An\n",
    "\n",
    "def find_k_closest(query, dataset, k=5):    \n",
    "    dotp = []\n",
    "    for i, vector in enumerate(dataset):\n",
    "      dotp.append((i,vector, np.dot(vector, query)))\n",
    "    sort_dotp = sorted(dotp, key=lambda x:x[2])[-k:][::-1] \n",
    "    return sort_dotp"
   ]
  },
  {
   "cell_type": "code",
   "execution_count": 12,
   "metadata": {},
   "outputs": [
    {
     "name": "stdout",
     "output_type": "stream",
     "text": [
      "Results for query: good mood\n",
      "\t ralph lauren ventured back the edwardian era with his fall collection romantic and quite natty place but the morning coats and other gentlemanly attire rendered almost entirely black and charcoal gray don come off masculine mournful instead lauren most elegant collection fuses menswear aesthetic completely feminine figure with nipped waists and lush lace some ruffles and embroidered detailing cutaway coat paired with tiered chiffon skirt for instance jacket with tails and morning suit style pant with cashmere and lace halter top the attitude subdued and restrained and unabashedly luxurious lauren evening attire especially glamorous yet quietly his black beaded numbers are subtle yet sexy the bob mackie show meanwhile was thematically tied broadway musicals corny and vampy that may sound and was slightly though overwhelming crowd pleaser that had the audience standing and applauding the show conclusion most the clothes the collection from pin striped suits and succession black numbers beaded evening gowns are not just for the stage mackie version evening glamour for the season more obvious and not refined lauren but valid alternative for women who want make show stopping entrance minus the thematic headdresses hats and other accouterments these are sensible and intricately detailed gowns for the gala going set helmut lang the finely tailored basics the designer known for are featured black and creamy white are the principal palette along with his crisp men style jackets pants and coats however shows trompe oeil apron front dresses and tunics with constructivist quality lang sweaters are neck wrapping scarflike affairs shaggy asymmetrical styles haphazardly cabled sweaters that bring mind fisherman knits his blouses have gaps that soften any tailored lines and some tops come with projecting flaps such stiff shirt tails metallic shoulder covers slashes some pieces add tough edge the whole effect layered and very downtown tone anomaly lang pleated mylar like skirts crossed with bands for wrapped effect robert janjigian writes for the palm beach daily news you may contact him rjanjigian pbdailynews com story filed cox newspapers  sim= 2.0391068\n",
      "\t towels were piled high perhaps feet deep the middle the locker room wet dirty towels fitting match the mood the louis rams many whom had showered and dressed world record time sundaynight they had washed away the blood and the sweat but the tears still were there ditto for the look shock offensive lineman orlando pace sat quietly asking for some time before spoke linebacker london fletcher took the opposite approach choosing get the session with the media over with still played for the better football team believed but today new england was the better football team fletcher said and told them that the questions were fired him relentlessly what went wrong what did the patriots stop his team offensively why hadn the defense forced any turnovers each one fletcher shook his head didn know finally said that maybe was meant this way mean the patriots the symbolism with the red white and blue maybe that was under the circumstances was the best could indeed one one the rams faced the music but the mood was unanimous the loss had ruined their season you don come play for second place said grant wistrom the rams defensive end was seated the bowels the superdome his hair wet from shower that hadn all cooled his emotions was angry angry that adam vinatieri kick had been good yes but angry that and his colleagues defense hadn stepped when the super bowl was the line didn the job and that goes for too said wistrom not leaving myself out this didn the job either was suggested that the patriots threw new wrinkles the rams that was different offense from back november when the teams met foxboro stadium wistrom wore blank stare not all said they ran the ball down our throats they threw play action that what they did the other game too but the first game stopped them this time let run over many questions suggested that the rams had taken the patriots lightly but that was ridiculous thought they said knew what tom brady could because had played them before said defensive end leonard little trying slip into his clothes the media squeezed around his locker knew what type football team they had said fletcher weren overconfident all but they got dressed they were stunned shocked disappointed the only thing leaving new orleans with hole stomach said rookie safety adam archuleta surely could least take solace the fact that had made the super bowl his first season starting defense ranked third the nfc stopped buttoning his shirt and looked disbelief toward row reporters the way look doesn really mean anything said across the way veteran star echoed the rookie feeling marshall faulk had even more reporters around him but didn have any answers like archuleta was consumed hollow feeling and took solace the fact his team had battled back nearly force overtime anytime you lose the playoffs disappointing faulk said lose the super bowl might little more disappointing really don know what tell you because still sort shock faulk who formed dynamic duo with quarterback kurt warner had been held total yards rushing receiving but except for few quick darts through the line the damage the patriots defense had been minimal still didn throw bouquets new england way choosing not praise the patriots they did nothing that hadn seen before but point his team miscues don think struggled said games like this this time the season funny things happen game our defense played great for the most part put them bad situations with the turnovers turned the ball over three times and lost the game there was media frenzy around them and heartbreak everywhere but the rams struggled with their composure until coach mike martz heard something that made him bark again the question did the rams take the patriots lightly please that insulting said his stare eliciting fire this the super bowl how can you overlook somebody the super bowl don understand that question just his players didn understand how they had lost  sim= 1.9696615\n",
      "\t people turn art for many reasons for some art like food nourishment for the senses the soul for others source entertainment stimulating cultural distraction powerful enough elicit laughs conjure tears but what about art ability help one work through issues express emotions simply relax the midst our overworked sleep deprived lives taking time engage the arts whether taking weekly painting class listening classical music for minutes each day can among the healthiest things for ourselves experts say art some shape form always has been part culture people danced around fires sang the family piano hammered precious metals into bracelets although these rituals may not have space our modern lives finding time make observe beauty helps forget our troubles and enjoy the moment the arts can help replenish our energy can respond the concerns our lives said geoffrey scott alexander expressive arts therapist albany and founder glass lake studio creative arts therapy training institute gives way work with our problems instead working them and that can very transformative stress defined scott alexander the depletion one spiritual emotional and physical energy malady that can strike anyone especially competitive society that values productivity and achievement over inner peace our defense taking the time refocus and care for ourselves scott alexander calls reducing the noise level can gentle and passive like listening music reading poetry visiting museum can more expressive like dancing drumming painting anything that opens your heart and brings beauty into your life said others laud art ability help suspend reality shift one concentration from daily concerns the process producing art and writing drawing taking art class anything that satisfying and restful can creative way exploring the inner self and remedying stress some use art cope with work related stress life changes denie whalen occupational therapist peter hospital albany first experienced the power art teenager after her mother died lacking grief counseling whalen began writing fiction work through her pain therapist she has used writing and drawing exercises help her own patients lately whalen paints explore her feelings about changing careers and uncertain future painting meditative for she said try aware what bring the painting way get know myself observing art seeking entertainment can just powerful and healing films music concerts dance performances and even sporting events can reduce anxiety helping one relax spend time with others and for while forget concerns and people shouldn feel guilty about plopping the couch watch movie spending the day ballgame experts urge distraction part the process takes you out your situation for brief time served its purpose said rochelle brener albany poet and creative arts therapist the problem still there but you looking more relaxed perspective you may see different way shift focus said scott alexander arts and entertainment reveal universal themes that show the similarities life struggles takes you out the personal you don feel alone said let you feel yourself part humanity  sim= 1.9125534\n",
      "\t desea ser simbolo sexual pero cierto que todavia queda poco mujer policia angie dickinson entero cuando playboy designo una las mujeres mas sexys del siglo pero muestra suficiente interesada como para emprender interrogatorio que numero fui exactamente numero informa quienes fueron las numeros clara bow hedy lamarr respectivamente vamos dejar una cosa bien claro dice dickinson llegue ser antes que hubieran clubes salud videos ejercicios aquel entonces atractivo sexual dependia mas interno que externo hace una pausa por supuesto nada dano que tuviera unas excelentes piernas puede tener anos pero dickinson esta demostrando que carrera profesional tambien tiene piernas para seguir adelante tuvo papeles pequenos pay forward nueva version filme ocean eleven tiene papel mas importancia big bad love que inaugura estados unidos febrero con los estelares debra winger arliss howard quien tambien dirige filme una historia amor atormentado que dickinson hace papel madre howard debra arliss llamaron agente mostre poco dudosa acerca pelicula admite dickinson pense que era mas bien papel para susan sullivan una llamada personal winger acabo por persuadir dickinson tambien tuvo algo que ver hecho que actriz tiene deseos retirarse hecho ella misma mejor promotora encontre con productor jerry weintraub hace ano una esas aburridas cosas uso dice dije estado oyendo que estas haciendo una nueva version ocean eleven quiero estar ella quiero que digas que haras posible veras puede recordaba astro george clooney definitivamente informa dickinson george tuvimos una reunion recuerda hablo cuando menos durante los primeros minutos solo repetia una otra vez dios mio dios mio finalmente estoy conociendo actriz dice que sigue recibiendo muchos guiones pero rechaza mayoria ellos gustan los papeles glamorosos dice que puedo ser tan glamorosa actualidad penoso siquiera intentarlo algo puedo soportar cuando las mujeres actuan acuerdo con edad siguen tratando conservar imagen por supuesto gente hollywood dice una pero angie todavia ves fantastica dice pero veo suficientemente fantastica para misma darren star creador serie sex and the city ofrecio papel una nueva serie dice dickinson era una mujer edad madura muy sensual dice senti siquiera tentada aceptarlo solo dije puedo hacerlo darren estoy demasiado vieja demasiado gorda bautizada como angeline brown dickinson crecio kulm dakota del norte sonando siempre con ser una escritora padre era editor diario mas tarde impresor una actriz cine cuando tenia anos familia mudo burbank california donde despues graduarse preparatoria dickinson obtuvo empleo como secretaria una fabrica partes aviones sin embargo triunfo concurso belleza nbc premio incluia papel pequeno filme lucky belleza rubia dejo atraer atencion algunos ofrecio otra participacion the jimmy durante show recuerdo haber entrado salon ensayos encontrarme jimmy durante sentado borde escenario cantando tonadas con hombre muy joven llamado frank sinatra dice ese preciso instante enamore absolutamente del mundo del espectaculo asi que asisti escuela trabaje como loca ese trabajo intenso rindio frutos dickinson construyo una carrera sustancial que incluyo point blank rio bravo howard hawks ocean eleven the sins rachel cade the chase serie television police woman aunque tambien tuvo memorable aunque breve papel dressed kill brian palma todavia recordada mas frecuentemente por actuacion police woman encanto esa serie porque abria nuevos horizontes dice fui una las primeras mujeres fuertes television hecho red television preocupaba que los hombres pudieran sentirse amenazadas podria salir adelante productor aaron spelling ofrecio dickinson papel crystal carrington exitosa serie dinasty pero ella rechazo fui primera eleccion para ese papel dice pero queria hacer otra serie deseaba tener una vida propia queria estar con familia hogar simplemente era momento equivocado hubieran pasado tres cuatro anos desde police woman hubiera aceptado pero era demasiado ese momento nueva filmacion ocean eleven hizo evocar los buenos viejos tiempos dice actriz por supuesto tengo recuerdos fabulosos version original ocean eleven dice era simplemente fantastico pasar los ratos con los miembros rat pack los amigos sinatra nos hicimos amigos muy queridos toda vida esos tipos realmente querian protegerme sinatra fue amigo particularmente intimo con quien ella tuvo una larga relacion sentimental pero dickinson suspira cuando recuerda tengo demasiados recuerdos frank dice podrian llenar libro alguna vez escribiera ese libro recordaria gente acerca del sentido del humor frank era tan agradable ingenioso del tipo humor carcajadas pero siempre divertido encantaba hacer bromas traviesas siempre tenia brillo malicioso mirada podria disculpar viviera pasado porque hecho que dickinson tuvo uno los pasados mas glamorosos hollywood pero ella sigue buscando grandes papeles filmicos encantaria hacer papel madre pacino tia mayor kevin spacey dice encanta ben stiller ciertamente podria hacer parte madre mentor algo que realmente quiere hollywood ella una autobiografia pero dickinson dice que tendran pensado escribirla admite hecho acepte una oferta una editorial importante escribi unas cuartillas pero editor dijo necesitas entrar mucho mas detalle otras palabras quieren saber con quien dormiste cuando eras mas joven asi que les devolvi adelanto quiero entrar mas detalles dice vida privada casada dos veces con gene dickinson durante anos con compositor burt bacharach dickinson soltera estos dias efectivamente tiene citas algo parecido eso edad una las llama citas querida dice soltando una carcajada voy cenar con hombre hecho resulta penoso soy julia roberts que sale diverirse ciudad extrana los dias que era simbolo sexual dice dickinson conclusion cuando estaba mis dias gloria dice nunca miraba espejo decia eres una bella estrella cine veia ese espejo decia caray pregunto poco lapiz labial haria verse mejor este paquete caramba mis piernas estan bien pero que hay acerca del resto una realmente debe quejarse anade con suspiro estaba viviendo medio cuento hadas terminado aun cindy pearlman una escritora independiente basada chicago editores olviden visitar sitio oficial red del new york times syndicate http www nytimes com syndicate para informacion sobre starbeat otros servicios para publicar este articulo debe ser comprado tarifa alta representante ventas del new york times syndicate isabel amorim sicherle por facsimil por mail isicherleaeconomia com ella tambien tiene informacion acerca como subscribirse starbeat paquete semanal cinco articulos interesantes con ilustraciones color para los suscriptores para publicar articulo compra por separado debe adquirirse rogamos ponerse contacto con alguno estos representantes ventas estados unidos canada debra weydert nueva jersey fax europa asia claire saint andre paris fax telex america latina isabel amorim sicherle brasil ellos tambien tienen informacion acerca como suscribirse starbeat paquete semanal cuatro interesantes articulos sobre peliculas musica television mas todas acompanadas material grafico colores  sim= 1.8997254\n",
      "\t picture this britney spears mariah carey bjork and ethel merman are all stage side side roughly the same age dewy eyed which them sounds better you stop laughing the question well worth exploring what that listen for female pop singer today and how does this differ from what once loved hear further personalize the matter why ethel merman one the most distinctive female singers the 20th century now viewed many perhaps the uncoolest singer ever simply because she sang with natural power and sheen that today seem the antithesis contemporary pop style the recent release selections from two merman broadway star turns irving berlin call madam and cole porter panama hattie decca broadway alongside the reissue the original cast album berlin annie get your gun decca broadway occasion examination this neglected icon the leading broadway musical comedy performer her day and singer timeless gifts but less than eternal appeal she died listen her annie oakley annie get your gun the voice brassy jaunty clarion yet unexpectedly lilting sound that seems embody much what has been lost our musical life over the last quarter century quality unapologetic all american moxie that our culture whole has largely abandoned since the 60s simply stated merman possessed the same innate vocal prowess carey the same girlish buoyancy spears and the same mesmerizing assurance bjork she was just about spears age when she first became sensation introducing got rhythm broadway the gershwin brother musical comedy girl crazy and merman was very much thought hot the time though her offstage persona was about tame well spears notwithstanding the latter well publicized visits strip clubs study dance moves unlike carey though merman vocal talent was fearlessly idiosyncratic unabashed expression her boisterous personality was her exuberance neither characteristic was the product media handlers any kind her self confidence was also the irony free variety kind clueless state that makes her seem laughable many today fact merman gifts are now prime reasons for her fall from pop grace take her blaring almost garish individuality ever since the dawn rock roll the pop marketplace has placed premium original voices but can fickle perversely times iconoclastic voice like bjork embraced but better not sound classically legitimate merman suspicions will arise yes legitimate voice like carey embraced but better not sound individual merman your face instrument listeners are apt grow antsy and yes fresh young presence like spears more than embraced not because she possesses iconoclastic legitimate even rudimentary voice but merely for being infinitely malleable malleable merman was not young woman her vocal style and even her sexuality were very much about sense inner strength that was marvelously womanly sure everyone from madonna and janet jackson down affects kind feminine militancy today but truly mermanesque strength hardly certainly she had idiosyncracies that hardened into mannerisms the hair sprayed harridan image her later years listening today hugely talented young singer like macy gray confuses emotional honesty with eccentricity verging grotesquerie one can help but think merman after she had lost her youth their broadway musical gypsy the composer jule styne and the lyricist stephen sondheim channeled the emotional neediness underlying merman mannerisms revelatory effect and merman was more than the challenge plumbing the depths her own persona with incandescent results honesty was always what she was after ultimately one young singer who has studied merman closely and comprehends the subtleties her seeming contradictions the cabaret artist klea blackhurst her extraordinarily nuanced off broadway homage merman everything the traffic will allow received much critical acclaim this past season what eventually got remembered about her what she looked like and sounded like late life blackhurst said merman recent interview people aren really listening they remembering her hair style sullivan which she shouldn memorialized for almost relief point out that blackhurst doesn sing exactly like merman all her rhythmic sense more fluid though merman was not entirely the rhythmic stiff some accuse her having been her tone gentler her phrasing more thoughtful and her droll sense humor far more suited the moment fact blackhurst the perfect answer the question should even want singers sound like ethel merman anymore the answer qualified ethel merman was unmistakably another time but sure wouldn hurt listen her  sim= 1.8932611\n"
     ]
    }
   ],
   "source": [
    "query = \"good mood\"\n",
    "\n",
    "query_vec = model.infer_vector(preprocess(query))\n",
    "r = find_k_closest(query_vec,  sent_vecs)\n",
    "\n",
    "\n",
    "print(\"Results for query:\", query)\n",
    "for k, v, p in r:\n",
    "    print(\"\\t\", news[k][:-1], \"sim=\", p)"
   ]
  },
  {
   "cell_type": "code",
   "execution_count": 20,
   "metadata": {},
   "outputs": [
    {
     "name": "stdout",
     "output_type": "stream",
     "text": [
      "0.8666666666666667\n",
      "2.017782560805999\n"
     ]
    }
   ],
   "source": [
    "vector = [1,1,0,0,1]\n",
    "print(average_precision(vector,len(vector)))\n",
    "print(dcg_at_k(vector,len(vector)))"
   ]
  }
 ],
 "metadata": {
  "kernelspec": {
   "display_name": "Python 3",
   "language": "python",
   "name": "python3"
  },
  "language_info": {
   "codemirror_mode": {
    "name": "ipython",
    "version": 3
   },
   "file_extension": ".py",
   "mimetype": "text/x-python",
   "name": "python",
   "nbconvert_exporter": "python",
   "pygments_lexer": "ipython3",
   "version": "3.7.5"
  }
 },
 "nbformat": 4,
 "nbformat_minor": 4
}
